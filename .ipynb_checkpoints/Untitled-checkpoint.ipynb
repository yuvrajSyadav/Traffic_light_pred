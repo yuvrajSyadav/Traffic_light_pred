{
 "cells": [
  {
   "cell_type": "code",
   "execution_count": 24,
   "id": "ab370cba",
   "metadata": {},
   "outputs": [],
   "source": [
    "from keras.models import Sequential\n",
    "from tensorflow.keras.layers import Dense,Dropout,Flatten\n",
    "from keras.layers.convolutional import Conv2D , MaxPooling2D\n",
    "from keras.utils import np_utils\n",
    "from keras import backend as K"
   ]
  },
  {
   "cell_type": "code",
   "execution_count": 25,
   "id": "32c77b9d",
   "metadata": {},
   "outputs": [],
   "source": [
    "#paths\n",
    "train = 'traffic_light_data/train'\n",
    "val = 'traffic_light_data/val'"
   ]
  },
  {
   "cell_type": "code",
   "execution_count": 27,
   "id": "bea430c1",
   "metadata": {},
   "outputs": [],
   "source": [
    "model = Sequential()\n",
    "model.add(Conv2D(filters= 64,kernel_size= (5,5), input_shape = (224,224,3), activation = 'relu'))\n",
    "model.add(MaxPooling2D(pool_size= (2,2)))\n",
    "model.add(Dropout(0.5))\n",
    "model.add(Flatten())\n",
    "model.add(Dropout(0.5))\n",
    "model.add(Dense(4,activation = \"softmax\"))"
   ]
  },
  {
   "cell_type": "code",
   "execution_count": 28,
   "id": "c5ba4d2c",
   "metadata": {},
   "outputs": [
    {
     "name": "stdout",
     "output_type": "stream",
     "text": [
      "Model: \"sequential_3\"\n",
      "_________________________________________________________________\n",
      " Layer (type)                Output Shape              Param #   \n",
      "=================================================================\n",
      " conv2d_2 (Conv2D)           (None, 220, 220, 64)      4864      \n",
      "                                                                 \n",
      " max_pooling2d_2 (MaxPooling  (None, 110, 110, 64)     0         \n",
      " 2D)                                                             \n",
      "                                                                 \n",
      " dropout_4 (Dropout)         (None, 110, 110, 64)      0         \n",
      "                                                                 \n",
      " flatten_2 (Flatten)         (None, 774400)            0         \n",
      "                                                                 \n",
      " dropout_5 (Dropout)         (None, 774400)            0         \n",
      "                                                                 \n",
      " dense_2 (Dense)             (None, 4)                 3097604   \n",
      "                                                                 \n",
      "=================================================================\n",
      "Total params: 3,102,468\n",
      "Trainable params: 3,102,468\n",
      "Non-trainable params: 0\n",
      "_________________________________________________________________\n"
     ]
    }
   ],
   "source": [
    "model.summary()"
   ]
  },
  {
   "cell_type": "code",
   "execution_count": 29,
   "id": "255e380a",
   "metadata": {},
   "outputs": [],
   "source": [
    "model.compile(loss= \"categorical_crossentropy\", optimizer= \"rmsprop\" ,metrics = [\"accuracy\"])"
   ]
  },
  {
   "cell_type": "code",
   "execution_count": 30,
   "id": "4ab51bc2",
   "metadata": {},
   "outputs": [
    {
     "name": "stdout",
     "output_type": "stream",
     "text": [
      "Model: \"sequential_3\"\n",
      "_________________________________________________________________\n",
      " Layer (type)                Output Shape              Param #   \n",
      "=================================================================\n",
      " conv2d_2 (Conv2D)           (None, 220, 220, 64)      4864      \n",
      "                                                                 \n",
      " max_pooling2d_2 (MaxPooling  (None, 110, 110, 64)     0         \n",
      " 2D)                                                             \n",
      "                                                                 \n",
      " dropout_4 (Dropout)         (None, 110, 110, 64)      0         \n",
      "                                                                 \n",
      " flatten_2 (Flatten)         (None, 774400)            0         \n",
      "                                                                 \n",
      " dropout_5 (Dropout)         (None, 774400)            0         \n",
      "                                                                 \n",
      " dense_2 (Dense)             (None, 4)                 3097604   \n",
      "                                                                 \n",
      "=================================================================\n",
      "Total params: 3,102,468\n",
      "Trainable params: 3,102,468\n",
      "Non-trainable params: 0\n",
      "_________________________________________________________________\n"
     ]
    }
   ],
   "source": [
    "model.summary()"
   ]
  },
  {
   "cell_type": "code",
   "execution_count": 31,
   "id": "6137854f",
   "metadata": {},
   "outputs": [],
   "source": [
    "from keras.preprocessing.image import ImageDataGenerator"
   ]
  },
  {
   "cell_type": "code",
   "execution_count": 32,
   "id": "d82df972",
   "metadata": {},
   "outputs": [
    {
     "name": "stdout",
     "output_type": "stream",
     "text": [
      "Found 2143 images belonging to 4 classes.\n"
     ]
    }
   ],
   "source": [
    "train_datagen = ImageDataGenerator(rescale = 1./255 , zoom_range = 0.3, width_shift_range= 0.2, horizontal_flip = True , rotation_range= 90)\n",
    "train_data = train_datagen.flow_from_directory(train,target_size = (224, 224), batch_size= 32, class_mode= \"categorical\")\n"
   ]
  },
  {
   "cell_type": "code",
   "execution_count": 33,
   "id": "03042ce8",
   "metadata": {},
   "outputs": [
    {
     "name": "stdout",
     "output_type": "stream",
     "text": [
      "Found 383 images belonging to 4 classes.\n"
     ]
    }
   ],
   "source": [
    "val_datagen = ImageDataGenerator(rescale = 1./255)\n",
    "val_data = val_datagen.flow_from_directory(val,batch_size= 32, target_size = (224, 224), class_mode= \"categorical\")"
   ]
  },
  {
   "cell_type": "code",
   "execution_count": 34,
   "id": "9a3a3938",
   "metadata": {},
   "outputs": [
    {
     "name": "stderr",
     "output_type": "stream",
     "text": [
      "C:\\Users\\Admin\\anaconda3\\envs\\animal\\lib\\site-packages\\ipykernel_launcher.py:1: UserWarning: `Model.fit_generator` is deprecated and will be removed in a future version. Please use `Model.fit`, which supports generators.\n",
      "  \"\"\"Entry point for launching an IPython kernel.\n"
     ]
    },
    {
     "name": "stdout",
     "output_type": "stream",
     "text": [
      "Epoch 1/10\n",
      "67/67 [==============================] - ETA: 0s - loss: 3.1608 - accuracy: 0.7242WARNING:tensorflow:Your input ran out of data; interrupting training. Make sure that your dataset or generator can generate at least `steps_per_epoch * epochs` batches (in this case, 200 batches). You may need to use the repeat() function when building your dataset.\n",
      "67/67 [==============================] - 129s 2s/step - loss: 3.1608 - accuracy: 0.7242 - val_loss: 0.1435 - val_accuracy: 0.9687\n",
      "Epoch 2/10\n",
      "67/67 [==============================] - 105s 2s/step - loss: 0.8620 - accuracy: 0.8409\n",
      "Epoch 3/10\n",
      "67/67 [==============================] - 112s 2s/step - loss: 0.5347 - accuracy: 0.8833\n",
      "Epoch 4/10\n",
      "67/67 [==============================] - 111s 2s/step - loss: 0.7015 - accuracy: 0.8950\n",
      "Epoch 5/10\n",
      "67/67 [==============================] - 111s 2s/step - loss: 0.9023 - accuracy: 0.8889\n",
      "Epoch 6/10\n",
      "67/67 [==============================] - 112s 2s/step - loss: 0.9011 - accuracy: 0.9034\n",
      "Epoch 7/10\n",
      "67/67 [==============================] - 114s 2s/step - loss: 0.5749 - accuracy: 0.9090\n",
      "Epoch 8/10\n",
      "67/67 [==============================] - 110s 2s/step - loss: 0.4176 - accuracy: 0.9244\n",
      "Epoch 9/10\n",
      "67/67 [==============================] - 110s 2s/step - loss: 0.5853 - accuracy: 0.9225\n",
      "Epoch 10/10\n",
      "67/67 [==============================] - 111s 2s/step - loss: 0.4925 - accuracy: 0.9281\n"
     ]
    },
    {
     "data": {
      "text/plain": [
       "<keras.callbacks.History at 0x2d6817c9108>"
      ]
     },
     "execution_count": 34,
     "metadata": {},
     "output_type": "execute_result"
    }
   ],
   "source": [
    "model.fit_generator(train_data, validation_data = val_data , epochs = 10 , validation_steps = 200)"
   ]
  },
  {
   "cell_type": "code",
   "execution_count": 35,
   "id": "09365182",
   "metadata": {},
   "outputs": [],
   "source": [
    "from tensorflow.keras.models import load_model\n",
    "\n",
    "model.save('model.h5')"
   ]
  },
  {
   "cell_type": "code",
   "execution_count": 37,
   "id": "299a395d",
   "metadata": {},
   "outputs": [],
   "source": [
    "y_pred = model.predict(val_data)\n",
    "import numpy as np\n",
    "y_pred = np.argmax(y_pred, axis=1)"
   ]
  },
  {
   "cell_type": "code",
   "execution_count": 38,
   "id": "1f0e8743",
   "metadata": {},
   "outputs": [
    {
     "data": {
      "text/plain": [
       "array([3, 0, 3, 0, 3, 1, 2, 1, 1, 2, 1, 3, 1, 1, 0, 2, 2, 2, 0, 3, 3, 2,\n",
       "       2, 0, 0, 1, 3, 2, 1, 3, 3, 1, 0, 3, 3, 2, 2, 2, 1, 1, 2, 0, 0, 1,\n",
       "       2, 0, 3, 1, 0, 0, 0, 0, 1, 1, 3, 2, 1, 1, 2, 2, 2, 3, 1, 0, 2, 0,\n",
       "       2, 1, 1, 0, 0, 3, 1, 3, 2, 0, 2, 2, 2, 2, 0, 0, 3, 1, 3, 2, 1, 2,\n",
       "       3, 2, 1, 0, 0, 0, 0, 3, 1, 1, 2, 0, 1, 3, 1, 1, 1, 2, 1, 1, 2, 1,\n",
       "       0, 2, 2, 2, 0, 0, 0, 0, 0, 2, 3, 3, 1, 0, 1, 1, 3, 3, 3, 0, 0, 0,\n",
       "       2, 2, 0, 3, 1, 0, 1, 2, 2, 2, 3, 1, 0, 2, 2, 0, 0, 3, 3, 0, 2, 0,\n",
       "       1, 0, 1, 3, 3, 0, 3, 1, 1, 2, 0, 1, 1, 3, 1, 2, 2, 0, 0, 1, 2, 0,\n",
       "       0, 1, 0, 2, 3, 0, 0, 1, 1, 1, 0, 3, 0, 2, 2, 3, 1, 3, 3, 0, 2, 1,\n",
       "       0, 0, 0, 1, 2, 1, 1, 3, 1, 1, 2, 2, 0, 2, 0, 3, 0, 1, 0, 3, 3, 1,\n",
       "       0, 0, 3, 0, 2, 2, 1, 1, 0, 3, 2, 3, 2, 1, 2, 2, 2, 2, 2, 0, 2, 0,\n",
       "       1, 0, 0, 0, 1, 1, 0, 1, 1, 1, 2, 2, 2, 2, 2, 3, 1, 3, 2, 2, 3, 1,\n",
       "       2, 0, 1, 2, 0, 3, 1, 3, 0, 1, 0, 2, 0, 2, 0, 3, 0, 3, 2, 1, 0, 3,\n",
       "       1, 3, 2, 1, 0, 1, 0, 3, 0, 0, 2, 0, 1, 2, 2, 2, 1, 3, 3, 0, 1, 3,\n",
       "       0, 0, 2, 0, 0, 2, 0, 2, 1, 1, 1, 0, 3, 2, 0, 0, 1, 1, 2, 3, 1, 1,\n",
       "       2, 0, 1, 1, 3, 0, 0, 3, 3, 2, 1, 2, 2, 3, 0, 3, 3, 3, 2, 3, 0, 2,\n",
       "       2, 3, 0, 1, 0, 3, 2, 0, 3, 3, 1, 0, 2, 1, 1, 3, 1, 3, 1, 2, 0, 2,\n",
       "       0, 0, 0, 2, 2, 0, 3, 3, 2], dtype=int64)"
      ]
     },
     "execution_count": 38,
     "metadata": {},
     "output_type": "execute_result"
    }
   ],
   "source": [
    "y_pred"
   ]
  },
  {
   "cell_type": "code",
   "execution_count": null,
   "id": "509446e2",
   "metadata": {},
   "outputs": [],
   "source": []
  }
 ],
 "metadata": {
  "kernelspec": {
   "display_name": "Python 3 (ipykernel)",
   "language": "python",
   "name": "python3"
  },
  "language_info": {
   "codemirror_mode": {
    "name": "ipython",
    "version": 3
   },
   "file_extension": ".py",
   "mimetype": "text/x-python",
   "name": "python",
   "nbconvert_exporter": "python",
   "pygments_lexer": "ipython3",
   "version": "3.7.11"
  }
 },
 "nbformat": 4,
 "nbformat_minor": 5
}
